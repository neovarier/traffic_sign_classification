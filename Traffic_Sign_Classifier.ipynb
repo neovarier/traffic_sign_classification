{
 "cells": [
  {
   "cell_type": "markdown",
   "metadata": {
    "deletable": true,
    "editable": true
   },
   "source": [
    "# Self-Driving Car Engineer Nanodegree\n",
    "\n",
    "## Deep Learning\n",
    "\n",
    "## Project: Build a Traffic Sign Recognition Classifier\n",
    "\n",
    "In this notebook, a template is provided for you to implement your functionality in stages, which is required to successfully complete this project. If additional code is required that cannot be included in the notebook, be sure that the Python code is successfully imported and included in your submission if necessary. \n",
    "\n",
    "> **Note**: Once you have completed all of the code implementations, you need to finalize your work by exporting the iPython Notebook as an HTML document. Before exporting the notebook to html, all of the code cells need to have been run so that reviewers can see the final implementation and output. You can then export the notebook by using the menu above and navigating to  \\n\",\n",
    "    \"**File -> Download as -> HTML (.html)**. Include the finished document along with this notebook as your submission. \n",
    "\n",
    "In addition to implementing code, there is a writeup to complete. The writeup should be completed in a separate file, which can be either a markdown file or a pdf document. There is a [write up template](https://github.com/udacity/CarND-Traffic-Sign-Classifier-Project/blob/master/writeup_template.md) that can be used to guide the writing process. Completing the code template and writeup template will cover all of the [rubric points](https://review.udacity.com/#!/rubrics/481/view) for this project.\n",
    "\n",
    "The [rubric](https://review.udacity.com/#!/rubrics/481/view) contains \"Stand Out Suggestions\" for enhancing the project beyond the minimum requirements. The stand out suggestions are optional. If you decide to pursue the \"stand out suggestions\", you can include the code in this Ipython notebook and also discuss the results in the writeup file.\n",
    "\n",
    "\n",
    ">**Note:** Code and Markdown cells can be executed using the **Shift + Enter** keyboard shortcut. In addition, Markdown cells can be edited by typically double-clicking the cell to enter edit mode."
   ]
  },
  {
   "cell_type": "markdown",
   "metadata": {
    "deletable": true,
    "editable": true
   },
   "source": [
    "---\n",
    "## Step 0: Load The Data"
   ]
  },
  {
   "cell_type": "code",
   "execution_count": null,
   "metadata": {
    "collapsed": false,
    "deletable": true,
    "editable": true
   },
   "outputs": [],
   "source": [
    "# Load pickled data\n",
    "import pickle\n",
    "\n",
    "# TODO: Fill this in based on where you saved the training and testing data\n",
    "\n",
    "training_file = \"train.p\"\n",
    "validation_file= \"valid.p\"\n",
    "testing_file = \"test.p\"\n",
    "\n",
    "with open(training_file, mode='rb') as f:\n",
    "    train = pickle.load(f)\n",
    "with open(validation_file, mode='rb') as f:\n",
    "    valid = pickle.load(f)\n",
    "with open(testing_file, mode='rb') as f:\n",
    "    test = pickle.load(f)\n",
    "    \n",
    "X_train, y_train = train['features'], train['labels']\n",
    "X_validation, y_validation = valid['features'], valid['labels']\n",
    "X_test, y_test = test['features'], test['labels']"
   ]
  },
  {
   "cell_type": "markdown",
   "metadata": {
    "deletable": true,
    "editable": true
   },
   "source": [
    "---\n",
    "\n",
    "## Step 1: Dataset Summary & Exploration\n",
    "\n",
    "The pickled data is a dictionary with 4 key/value pairs:\n",
    "\n",
    "- `'features'` is a 4D array containing raw pixel data of the traffic sign images, (num examples, width, height, channels).\n",
    "- `'labels'` is a 1D array containing the label/class id of the traffic sign. The file `signnames.csv` contains id -> name mappings for each id.\n",
    "- `'sizes'` is a list containing tuples, (width, height) representing the original width and height the image.\n",
    "- `'coords'` is a list containing tuples, (x1, y1, x2, y2) representing coordinates of a bounding box around the sign in the image. **THESE COORDINATES ASSUME THE ORIGINAL IMAGE. THE PICKLED DATA CONTAINS RESIZED VERSIONS (32 by 32) OF THESE IMAGES**\n",
    "\n",
    "Complete the basic data summary below. Use python, numpy and/or pandas methods to calculate the data summary rather than hard coding the results. For example, the [pandas shape method](http://pandas.pydata.org/pandas-docs/stable/generated/pandas.DataFrame.shape.html) might be useful for calculating some of the summary results. "
   ]
  },
  {
   "cell_type": "markdown",
   "metadata": {
    "deletable": true,
    "editable": true
   },
   "source": [
    "### Provide a Basic Summary of the Data Set Using Python, Numpy and/or Pandas"
   ]
  },
  {
   "cell_type": "code",
   "execution_count": 2,
   "metadata": {
    "collapsed": false,
    "deletable": true,
    "editable": true
   },
   "outputs": [
    {
     "name": "stdout",
     "output_type": "stream",
     "text": [
      "Number of training examples = 34799\n",
      "Number of validation examples = 4410\n",
      "Number of testing examples = 12630\n",
      "Image data shape = (32, 32, 3)\n",
      "Number of classes = 43\n"
     ]
    }
   ],
   "source": [
    "### Replace each question mark with the appropriate value. \n",
    "### Use python, pandas or numpy methods rather than hard coding the results\n",
    "\n",
    "# TODO: Number of training examples\n",
    "import numpy as np\n",
    "n_train = X_train.shape[0]\n",
    "\n",
    "#Number of validation examples\n",
    "n_valid = X_validation.shape[0]\n",
    "\n",
    "# TODO: Number of testing examples.\n",
    "n_test = X_test.shape[0]\n",
    "\n",
    "# TODO: What's the shape of an traffic sign image?\n",
    "image_shape = X_train.shape[1:4]\n",
    "\n",
    "# TODO: How many unique classes/labels there are in the dataset.\n",
    "n_classes = len(np.unique(y_train))\n",
    "\n",
    "print(\"Number of training examples =\", n_train)\n",
    "print(\"Number of validation examples =\", n_valid)\n",
    "print(\"Number of testing examples =\", n_test)\n",
    "print(\"Image data shape =\", image_shape)\n",
    "print(\"Number of classes =\", n_classes)"
   ]
  },
  {
   "cell_type": "markdown",
   "metadata": {
    "deletable": true,
    "editable": true
   },
   "source": [
    "### Include an exploratory visualization of the dataset"
   ]
  },
  {
   "cell_type": "markdown",
   "metadata": {
    "deletable": true,
    "editable": true
   },
   "source": [
    "Visualize the German Traffic Signs Dataset using the pickled file(s). This is open ended, suggestions include: plotting traffic sign images, plotting the count of each sign, etc.\n",
    "\n",
    "The [Matplotlib](http://matplotlib.org/) [examples](http://matplotlib.org/examples/index.html) and [gallery](http://matplotlib.org/gallery.html) pages are a great resource for doing visualizations in Python.\n",
    "\n",
    "**NOTE:** It's recommended you start with something simple first. If you wish to do more, come back to it after you've completed the rest of the sections."
   ]
  },
  {
   "cell_type": "code",
   "execution_count": 3,
   "metadata": {
    "collapsed": false,
    "deletable": true,
    "editable": true
   },
   "outputs": [
    {
     "data": {
      "image/png": "[encoded data removed]",
      "text/plain": [
       "<matplotlib.figure.Figure at 0x7fc3a68192e8>"
      ]
     },
     "metadata": {},
     "output_type": "display_data"
    },
    {
     "data": {
      "image/png": "[encoded data removed]",
      "text/plain": [
       "<matplotlib.figure.Figure at 0x7fc3bc94fb38>"
      ]
     },
     "metadata": {},
     "output_type": "display_data"
    }
   ],
   "source": [
    "### Data exploration visualization code goes here.\n",
    "### Feel free to use as many code cells as needed.\n",
    "import random\n",
    "import matplotlib.pyplot as plt\n",
    "import numpy as np\n",
    "# Visualizations will be shown in the notebook.\n",
    "%matplotlib inline\n",
    "def hist(labels):\n",
    "    histogram = np.zeros(n_classes)\n",
    "    for i in labels:\n",
    "        histogram[i] += 1\n",
    "    return histogram\n",
    "\n",
    "train_hist = hist(y_train)\n",
    "val_hist = hist(y_validation)\n",
    "x = range(n_classes)\n",
    "fig1,ax = plt.subplots()\n",
    "ax.bar(x,train_hist)\n",
    "ax.set_ylabel('Count if images')\n",
    "ax.set_xlabel('Classes')\n",
    "ax.set_title('Histogram plot for training data')\n",
    "plt.show()\n",
    "fig2,bx = plt.subplots()\n",
    "plt.bar(x,val_hist)\n",
    "bx.set_ylabel('Count if images')\n",
    "bx.set_xlabel('Classes')\n",
    "bx.set_title('Histogram plot for validation data')\n",
    "plt.show()\n"
   ]
  },
  {
   "cell_type": "code",
   "execution_count": 4,
   "metadata": {
    "collapsed": false,
    "deletable": true,
    "editable": true
   },
   "outputs": [
    {
     "name": "stdout",
     "output_type": "stream",
     "text": [
      "12 27450\n"
     ]
    },
    {
     "data": {
      "image/png": "[encoded data removed]",
      "text/plain": [
       "<matplotlib.figure.Figure at 0x7fc3d4409c18>"
      ]
     },
     "metadata": {},
     "output_type": "display_data"
    }
   ],
   "source": [
    "index = random.randint(0, len(X_train))\n",
    "image = X_train[index].squeeze()\n",
    "\n",
    "plt.figure(figsize=(1,1))\n",
    "plt.imshow(image)\n",
    "print(y_train[index], index)"
   ]
  },
  {
   "cell_type": "markdown",
   "metadata": {
    "deletable": true,
    "editable": true
   },
   "source": [
    "----\n",
    "\n",
    "## Step 2: Design and Test a Model Architecture\n",
    "\n",
    "Design and implement a deep learning model that learns to recognize traffic signs. Train and test your model on the [German Traffic Sign Dataset](http://benchmark.ini.rub.de/?section=gtsrb&subsection=dataset).\n",
    "\n",
    "The LeNet-5 implementation shown in the [classroom](https://classroom.udacity.com/nanodegrees/nd013/parts/fbf77062-5703-404e-b60c-95b78b2f3f9e/modules/6df7ae49-c61c-4bb2-a23e-6527e69209ec/lessons/601ae704-1035-4287-8b11-e2c2716217ad/concepts/d4aca031-508f-4e0b-b493-e7b706120f81) at the end of the CNN lesson is a solid starting point. You'll have to change the number of classes and possibly the preprocessing, but aside from that it's plug and play! \n",
    "\n",
    "With the LeNet-5 solution from the lecture, you should expect a validation set accuracy of about 0.89. To meet specifications, the validation set accuracy will need to be at least 0.93. It is possible to get an even higher accuracy, but 0.93 is the minimum for a successful project submission. \n",
    "\n",
    "There are various aspects to consider when thinking about this problem:\n",
    "\n",
    "- Neural network architecture (is the network over or underfitting?)\n",
    "- Play around preprocessing techniques (normalization, rgb to grayscale, etc)\n",
    "- Number of examples per label (some have more than others).\n",
    "- Generate fake data.\n",
    "\n",
    "Here is an example of a [published baseline model on this problem](http://yann.lecun.com/exdb/publis/pdf/sermanet-ijcnn-11.pdf). It's not required to be familiar with the approach used in the paper but, it's good practice to try to read papers like these."
   ]
  },
  {
   "cell_type": "markdown",
   "metadata": {
    "deletable": true,
    "editable": true
   },
   "source": [
    "### Pre-process the Data Set (normalization, grayscale, etc.)"
   ]
  },
  {
   "cell_type": "markdown",
   "metadata": {
    "deletable": true,
    "editable": true
   },
   "source": [
    "Use the code cell (or multiple code cells, if necessary) to implement the first step of your project."
   ]
  },
  {
   "cell_type": "code",
   "execution_count": null,
   "metadata": {
    "collapsed": false,
    "deletable": true,
    "editable": true
   },
   "outputs": [],
   "source": [
    "from math import floor\n",
    "import cv2\n",
    "MAX_ROT=3\n",
    "MAX_SHIFT=3\n",
    "def hist_analyse(labels):\n",
    "    histogram = hist(labels)\n",
    "    max_label = np.argmax(histogram)\n",
    "    max_label_cnt = np.max(histogram)\n",
    "    factor_hist = (max_label_cnt/histogram) - 1\n",
    "    factor_hist = [int(floor(x)) for x in factor_hist]\n",
    "    print(factor_hist)\n",
    "    return factor_hist\n",
    "    \n",
    "\n",
    "def feature_engg(X,labels,factor_hist):\n",
    "    tot = X.shape[0]\n",
    "    for i,image in enumerate(X):\n",
    "        #print(\"factor\",str(factor_hist[labels[i]]),\" label\", str(labels[i]))\n",
    "        for j in range(0,(factor_hist[labels[i]])):\n",
    "            angle = random.randint(-MAX_ROT,MAX_ROT)\n",
    "            rows,cols = image_shape[0:2]\n",
    "            #print(\"rows,columns\",rows,cols)\n",
    "            M = cv2.getRotationMatrix2D((cols/2,rows/2),angle,1)\n",
    "            dst = cv2.warpAffine(image,M,(cols,rows))\n",
    "            \n",
    "            shift_x = random.randint(-MAX_SHIFT,MAX_SHIFT)\n",
    "            shift_y = random.randint(-MAX_SHIFT,MAX_SHIFT)\n",
    "            P = np.float32([[1,0,shift_x],[0,1,shift_y]])\n",
    "            \n",
    "            dst = cv2.warpAffine(dst,P,(cols,rows))\n",
    "            dst = np.reshape(dst, X.shape[1:4])\n",
    "            X=np.append(X,[dst],axis=0)\n",
    "            labels=np.append(labels,[labels[i]],axis=0)\n",
    "        if (i%100) == 0:\n",
    "            print(i)\n",
    "    print(dst.shape)\n",
    "    return X,labels"
   ]
  },
  {
   "cell_type": "code",
   "execution_count": null,
   "metadata": {
    "collapsed": false,
    "deletable": true,
    "editable": true,
    "scrolled": true
   },
   "outputs": [],
   "source": [
    "print(\"Before aug Xtrain\",X_train.shape)\n",
    "print(\"Before aug ytrain\",y_train.shape)\n",
    "factor_hist = hist_analyse(y_train)\n",
    "X_train,y_train = feature_engg(X_train, y_train, factor_hist)\n",
    "print(\"After aug Xtrain\", X_train.shape)\n",
    "print(\"After aug ytrain\", y_train.shape)"
   ]
  },
  {
   "cell_type": "code",
   "execution_count": null,
   "metadata": {
    "collapsed": false,
    "deletable": true,
    "editable": true
   },
   "outputs": [],
   "source": [
    "print(\"Before aug Xvalidation\",X_validation.shape)\n",
    "print(\"Before aug yvalidation\",y_validation.shape)\n",
    "factor_hist_y = hist_analyse(y_validation)\n",
    "X_validation,y_validation = feature_engg(X_validation, y_validation, factor_hist_y)\n",
    "print(\"After aug Xvalidation\", X_validation.shape)\n",
    "print(\"After aug yvalidation\", y_validation.shape)"
   ]
  },
  {
   "cell_type": "code",
   "execution_count": null,
   "metadata": {
    "collapsed": false,
    "deletable": true,
    "editable": true
   },
   "outputs": [],
   "source": [
    "train_aug={}\n",
    "valid_aug={}\n",
    "train_aug['features']=X_train\n",
    "train_aug['labels'] = y_train\n",
    "valid_aug['features'] = X_validation\n",
    "valid_aug['labels'] = y_validation\n"
   ]
  },
  {
   "cell_type": "code",
   "execution_count": null,
   "metadata": {
    "collapsed": false,
    "deletable": true,
    "editable": true
   },
   "outputs": [],
   "source": [
    "with open('train_aug.p', mode='wb') as handle:\n",
    "    pickle.dump(train_aug, handle, protocol=pickle.HIGHEST_PROTOCOL)\n",
    "with open('valid_aug.p', mode='wb') as handle:\n",
    "    pickle.dump(valid_aug, handle, protocol=pickle.HIGHEST_PROTOCOL)\n"
   ]
  },
  {
   "cell_type": "code",
   "execution_count": 5,
   "metadata": {
    "collapsed": false,
    "deletable": true,
    "editable": true
   },
   "outputs": [],
   "source": [
    "import pickle\n",
    "with open('train_aug.p', mode='rb') as f:\n",
    "    train = pickle.load(f)\n",
    "with open('valid_aug.p', mode='rb') as f:\n",
    "    valid = pickle.load(f)\n",
    "with open('test.p', mode='rb') as f:\n",
    "    test = pickle.load(f)\n",
    "    \n",
    "X_train, y_train = train['features'], train['labels']\n",
    "X_validation, y_validation = valid['features'], valid['labels']\n",
    "X_test, y_test = test['features'], test['labels']"
   ]
  },
  {
   "cell_type": "code",
   "execution_count": 6,
   "metadata": {
    "collapsed": false,
    "deletable": true,
    "editable": true
   },
   "outputs": [
    {
     "name": "stdout",
     "output_type": "stream",
     "text": [
      "Number of training examples = 74217\n",
      "Number of validation examples = 9390\n",
      "Number of testing examples = 12630\n",
      "Image data shape = (32, 32, 3)\n",
      "Number of classes = 43\n"
     ]
    }
   ],
   "source": [
    "### Replace each question mark with the appropriate value. \n",
    "### Use python, pandas or numpy methods rather than hard coding the results\n",
    "import numpy as np\n",
    "# TODO: Number of training examples\n",
    "n_train = X_train.shape[0]\n",
    "\n",
    "#Number of validation examples\n",
    "n_valid = X_validation.shape[0]\n",
    "\n",
    "# TODO: Number of testing examples.\n",
    "n_test = X_test.shape[0]\n",
    "\n",
    "# TODO: What's the shape of an traffic sign image?\n",
    "image_shape = X_train.shape[1:4]\n",
    "\n",
    "# TODO: How many unique classes/labels there are in the dataset.\n",
    "n_classes = len(np.unique(y_train))\n",
    "\n",
    "print(\"Number of training examples =\", n_train)\n",
    "print(\"Number of validation examples =\", n_valid)\n",
    "print(\"Number of testing examples =\", n_test)\n",
    "print(\"Image data shape =\", image_shape)\n",
    "print(\"Number of classes =\", n_classes)"
   ]
  },
  {
   "cell_type": "code",
   "execution_count": 7,
   "metadata": {
    "collapsed": false,
    "deletable": true,
    "editable": true
   },
   "outputs": [
    {
     "data": {
      "image/png": "[encoded data removed]",
      "text/plain": [
       "<matplotlib.figure.Figure at 0x7fc3bc8a40f0>"
      ]
     },
     "metadata": {},
     "output_type": "display_data"
    },
    {
     "data": {
      "image/png": "[encoded data removed]",
      "text/plain": [
       "<matplotlib.figure.Figure at 0x7fc3bc932438>"
      ]
     },
     "metadata": {},
     "output_type": "display_data"
    }
   ],
   "source": [
    "### Data exploration visualization code goes here.\n",
    "### Feel free to use as many code cells as needed.\n",
    "import random\n",
    "import matplotlib.pyplot as plt\n",
    "import numpy as np\n",
    "# Visualizations will be shown in the notebook.\n",
    "%matplotlib inline\n",
    "def hist(labels):\n",
    "    histogram = np.zeros(n_classes)\n",
    "    for i in labels:\n",
    "        histogram[i] += 1\n",
    "    return histogram\n",
    "\n",
    "train_hist = hist(y_train)\n",
    "val_hist = hist(y_validation)\n",
    "x = range(n_classes)\n",
    "fig1,ax = plt.subplots()\n",
    "ax.bar(x,train_hist)\n",
    "ax.set_ylabel('Count if images')\n",
    "ax.set_xlabel('Classes')\n",
    "ax.set_title('Histogram plot for training data')\n",
    "plt.show()\n",
    "fig2,bx = plt.subplots()\n",
    "plt.bar(x,val_hist)\n",
    "bx.set_ylabel('Count if images')\n",
    "bx.set_xlabel('Classes')\n",
    "bx.set_title('Histogram plot for validation data')\n",
    "plt.show()"
   ]
  },
  {
   "cell_type": "code",
   "execution_count": 8,
   "metadata": {
    "collapsed": false,
    "deletable": true,
    "editable": true
   },
   "outputs": [
    {
     "name": "stdout",
     "output_type": "stream",
     "text": [
      "4 7675\n"
     ]
    },
    {
     "data": {
      "image/png": "[encoded data removed]",
      "text/plain": [
       "<matplotlib.figure.Figure at 0x7fc3bc89d080>"
      ]
     },
     "metadata": {},
     "output_type": "display_data"
    }
   ],
   "source": [
    "index = random.randint(0, len(X_train))\n",
    "image = X_train[index].squeeze()\n",
    "\n",
    "plt.figure(figsize=(1,1))\n",
    "plt.imshow(image)\n",
    "print(y_train[index], index)"
   ]
  },
  {
   "cell_type": "code",
   "execution_count": 9,
   "metadata": {
    "collapsed": false,
    "deletable": true,
    "editable": true
   },
   "outputs": [
    {
     "name": "stdout",
     "output_type": "stream",
     "text": [
      "(74217, 32, 32)\n",
      "(74217, 32, 32)\n",
      "(74217, 32, 32, 1)\n",
      "(9390, 32, 32)\n",
      "(9390, 32, 32)\n",
      "(9390, 32, 32, 1)\n"
     ]
    }
   ],
   "source": [
    "### Preprocess the data here. Preprocessing steps could include normalization, converting to grayscale, etc.\n",
    "### Feel free to use as many code cells as needed.\n",
    "import cv2\n",
    "\n",
    "def preprocess_zero_mean(X):\n",
    "    for i,image in enumerate(X):\n",
    "        img = X[i][:][:]\n",
    "        X[i][:][:] = cv2.normalize(img.astype(np.float32), X[i][:][:], alpha=-1, beta=1,\\\n",
    "                                             norm_type=cv2.NORM_MINMAX, dtype=cv2.CV_32F)\n",
    "    print(X.shape)\n",
    "    return X\n",
    "\n",
    "def preprocess(X):\n",
    "    X_gray = np.zeros([X.shape[0],X.shape[1],X.shape[2]])\n",
    "    print(X_gray.shape)\n",
    "    for i,image in enumerate(X):\n",
    "        temp = cv2.cvtColor(image, cv2.COLOR_RGB2GRAY)\n",
    "        X_gray[i][:][:]= temp\n",
    "    X_gray = preprocess_zero_mean(X_gray)\n",
    "    X_gray = np.reshape(X_gray, (X.shape[0],X.shape[1],X.shape[2],1))\n",
    "    \n",
    "    print(X_gray.shape)\n",
    "    return X_gray\n",
    "\n",
    "        \n",
    "\n",
    "\n",
    "X_train_orig = np.copy(X_train)\n",
    "y_train_orig = np.copy(y_train)\n",
    "X_validation_orig = np.copy(X_validation)\n",
    "X_train = preprocess(X_train)\n",
    "X_validation = preprocess(X_validation)"
   ]
  },
  {
   "cell_type": "code",
   "execution_count": 10,
   "metadata": {
    "collapsed": false,
    "deletable": true,
    "editable": true
   },
   "outputs": [
    {
     "name": "stdout",
     "output_type": "stream",
     "text": [
      "11\n",
      "11 8648\n"
     ]
    },
    {
     "data": {
      "image/png": "[encoded data removed]",
      "text/plain": [
       "<matplotlib.figure.Figure at 0x7fc3b2d8e1d0>"
      ]
     },
     "metadata": {},
     "output_type": "display_data"
    },
    {
     "data": {
      "image/png": "[encoded data removed]",
      "text/plain": [
       "<matplotlib.figure.Figure at 0x7fc3b2cf8c18>"
      ]
     },
     "metadata": {},
     "output_type": "display_data"
    }
   ],
   "source": [
    "index = random.randint(0, len(X_train))\n",
    "image1 = X_train_orig[index].squeeze()\n",
    "image2 = X_train[index].squeeze()\n",
    "print(y_train[index])\n",
    "\n",
    "plt.figure(1)\n",
    "plt.imshow(image1)\n",
    "plt.figure(2)\n",
    "plt.imshow(image2,'gray')\n",
    "print(y_train[index], index)\n"
   ]
  },
  {
   "cell_type": "code",
   "execution_count": 11,
   "metadata": {
    "collapsed": false,
    "deletable": true,
    "editable": true
   },
   "outputs": [],
   "source": [
    "#Shuffle the images\n",
    "from sklearn.utils import shuffle\n",
    "X_train, y_train = shuffle(X_train, y_train)"
   ]
  },
  {
   "cell_type": "markdown",
   "metadata": {
    "deletable": true,
    "editable": true
   },
   "source": [
    "### Model Architecture"
   ]
  },
  {
   "cell_type": "code",
   "execution_count": 12,
   "metadata": {
    "collapsed": true,
    "deletable": true,
    "editable": true
   },
   "outputs": [],
   "source": [
    "### Define your architecture here.\n",
    "### Feel free to use as many code cells as needed.\n",
    "import tensorflow as tf\n",
    "\n",
    "from tensorflow.contrib.layers import flatten\n",
    "\n",
    "def LeNet(x, prob_c, prob_f):    \n",
    "    # Arguments used for tf.truncated_normal, randomly defines variables for the weights and biases for each layer\n",
    "    mu = 0\n",
    "    sigma = 0.1\n",
    "    \n",
    "    # SOLUTION: Layer 1: Convolutional. Input = 32x32x1. Output = 28x28x6.\n",
    "    conv1_W = tf.Variable(tf.truncated_normal(shape=(5, 5, 1, 6), mean = mu, stddev = sigma))\n",
    "    conv1_b = tf.Variable(tf.zeros(6))\n",
    "    conv1   = tf.add(tf.nn.conv2d(x, conv1_W, strides=[1, 1, 1, 1], padding='VALID'),conv1_b,name='conv1')\n",
    "\n",
    "    # SOLUTION: Activation.\n",
    "    conv1 = tf.nn.relu(conv1)\n",
    "\n",
    "    # SOLUTION: Pooling. Input = 28x28x6. Output = 14x14x6.\n",
    "    conv1 = tf.nn.max_pool(conv1, ksize=[1, 2, 2, 1], strides=[1, 2, 2, 1], padding='VALID')\n",
    "    conv1 = tf.nn.dropout(conv1, prob_c)\n",
    "\n",
    "    # SOLUTION: Layer 2: Convolutional. Output = 10x10x16.\n",
    "    conv2_W = tf.Variable(tf.truncated_normal(shape=(5, 5, 6, 16), mean = mu, stddev = sigma))\n",
    "    conv2_b = tf.Variable(tf.zeros(16))\n",
    "    conv2   = tf.add(tf.nn.conv2d(conv1, conv2_W, strides=[1, 1, 1, 1], padding='VALID'),conv2_b,name='conv2')\n",
    "    \n",
    "    # SOLUTION: Activation.\n",
    "    conv2 = tf.nn.relu(conv2)\n",
    "\n",
    "    # SOLUTION: Pooling. Input = 10x10x16. Output = 5x5x16.\n",
    "    conv2 = tf.nn.max_pool(conv2, ksize=[1, 2, 2, 1], strides=[1, 2, 2, 1], padding='VALID')\n",
    "    conv2 = tf.nn.dropout(conv2, prob_c)\n",
    "\n",
    "    # SOLUTION: Flatten. Input = 5x5x16. Output = 400.\n",
    "    fc0   = flatten(conv2)\n",
    "    \n",
    "    # SOLUTION: Layer 3: Fully Connected. Input = 400. Output = 120.\n",
    "    fc1_W = tf.Variable(tf.truncated_normal(shape=(400, 120), mean = mu, stddev = sigma))\n",
    "    fc1_b = tf.Variable(tf.zeros(120))\n",
    "    fc1   = tf.add(tf.matmul(fc0, fc1_W),fc1_b)\n",
    "    \n",
    "    # SOLUTION: Activation.\n",
    "    fc1    = tf.nn.relu(fc1)\n",
    "    fc1    = tf.nn.dropout(fc1, prob_f)\n",
    "\n",
    "    # SOLUTION: Layer 4: Fully Connected. Input = 120. Output = 84.\n",
    "    fc2_W  = tf.Variable(tf.truncated_normal(shape=(120, 84), mean = mu, stddev = sigma))\n",
    "    fc2_b  = tf.Variable(tf.zeros(84))\n",
    "    fc2    = tf.add(tf.matmul(fc1, fc2_W),fc2_b)\n",
    "    \n",
    "    # SOLUTION: Activation.\n",
    "    fc2    = tf.nn.relu(fc2)\n",
    "    fc2    = tf.nn.dropout(fc2, prob_f)\n",
    "\n",
    "    # SOLUTION: Layer 5: Fully Connected. Input = 84. Output = 10.\n",
    "    fc3_W  = tf.Variable(tf.truncated_normal(shape=(84, n_classes), mean = mu, stddev = sigma))\n",
    "    fc3_b  = tf.Variable(tf.zeros(n_classes))\n",
    "    logits = tf.add(tf.matmul(fc2, fc3_W),fc3_b)\n",
    "    reg = (tf.nn.l2_loss(conv1_W)+tf.nn.l2_loss(conv2_W)+tf.nn.l2_loss(fc1_W)+tf.nn.l2_loss(fc2_W)+tf.nn.l2_loss(fc3_W))\n",
    "    return logits, reg, conv1, conv2, fc1, fc2"
   ]
  },
  {
   "cell_type": "code",
   "execution_count": 13,
   "metadata": {
    "collapsed": false,
    "deletable": true,
    "editable": true
   },
   "outputs": [
    {
     "name": "stdout",
     "output_type": "stream",
     "text": [
      "(32, 32, 3)\n",
      "Tensor(\"Placeholder:0\", shape=(?, 32, 32, 1), dtype=float32)\n",
      "Tensor(\"Placeholder_1:0\", dtype=int32)\n",
      "Tensor(\"one_hot:0\", dtype=float32)\n"
     ]
    }
   ],
   "source": [
    "### Tensorflow Placeholders for train and labels\n",
    "print(image_shape)\n",
    "x = tf.placeholder(tf.float32,(None, image_shape[0], image_shape[1],1))\n",
    "print(x)\n",
    "y = tf.placeholder(tf.int32, (None))\n",
    "print(y)\n",
    "one_hot_y = tf.one_hot(y, n_classes)\n",
    "print(one_hot_y)"
   ]
  },
  {
   "cell_type": "code",
   "execution_count": 14,
   "metadata": {
    "collapsed": false,
    "deletable": true,
    "editable": true
   },
   "outputs": [
    {
     "name": "stdout",
     "output_type": "stream",
     "text": [
      "Tensor(\"Placeholder_3:0\", dtype=float32)\n"
     ]
    }
   ],
   "source": [
    "### Calculate cross_entropy, average cross_entropy, select optimizer and define the backpropogation \n",
    "default_rate = 0.001\n",
    "gamma = tf.placeholder(tf.float32)\n",
    "rate = tf.placeholder(tf.float32)\n",
    "keep_prob_c = tf.placeholder(tf.float32)\n",
    "keep_prob_f = tf.placeholder(tf.float32)\n",
    "print(rate)\n",
    "logits,reg,c1,c2,f1,f2 = LeNet(x, keep_prob_c, keep_prob_f)\n",
    "cross_entropy = tf.nn.softmax_cross_entropy_with_logits(logits, one_hot_y)\n",
    "\n",
    "loss_operation = tf.reduce_mean((cross_entropy + gamma*reg))\n",
    "optimizer = tf.train.AdamOptimizer(learning_rate = rate)\n",
    "training_operation = optimizer.minimize(loss_operation)"
   ]
  },
  {
   "cell_type": "code",
   "execution_count": 15,
   "metadata": {
    "collapsed": true,
    "deletable": true,
    "editable": true
   },
   "outputs": [],
   "source": [
    "### Define Model Evaluation method\n",
    "correct_prediction = tf.equal(tf.argmax(logits, 1), tf.argmax(one_hot_y, 1))\n",
    "accuracy_operation = tf.reduce_mean(tf.cast(correct_prediction, tf.float32))\n",
    "saver = tf.train.Saver()\n",
    "\n",
    "def set_evaluate(X_data, y_data, batch_size):\n",
    "    num_examples = len(X_data)\n",
    "    total_accuracy = 0\n",
    "    total_loss = 0\n",
    "    sess = tf.get_default_session()\n",
    "    for offset in range(0, num_examples, batch_size):\n",
    "        batch_x, batch_y = X_data[offset:offset+batch_size], y_data[offset:offset+batch_size]\n",
    "        accuracy,loss_valid = sess.run([accuracy_operation, loss_operation], feed_dict={x: batch_x, y: batch_y, keep_prob_c: 1.0, keep_prob_f: 1.0, gamma: 0.0})\n",
    "        total_loss += (loss_valid * len(batch_x))\n",
    "        total_accuracy += (accuracy * len(batch_x))\n",
    "    return (total_accuracy / num_examples), (total_loss/num_examples)\n",
    "\n",
    "def training_set_evaluate(X_data, y_data, batch_size):\n",
    "    num_examples = len(X_data)\n",
    "    total_accuracy = 0\n",
    "    sess = tf.get_default_session()\n",
    "    for offset in range(0, num_examples, batch_size):\n",
    "        batch_x, batch_y = X_data[offset:offset+batch_size], y_data[offset:offset+batch_size]\n",
    "        accuracy = sess.run(accuracy_operation, feed_dict={x: batch_x, y: batch_y, keep_prob_c: 1.0, keep_prob_f: 1.0, gamma: 0.0})\n",
    "        total_accuracy += (accuracy * len(batch_x))\n",
    "    return total_accuracy / num_examples"
   ]
  },
  {
   "cell_type": "markdown",
   "metadata": {
    "deletable": true,
    "editable": true
   },
   "source": [
    "### Train, Validate and Test the Model"
   ]
  },
  {
   "cell_type": "markdown",
   "metadata": {
    "deletable": true,
    "editable": true
   },
   "source": [
    "A validation set can be used to assess how well the model is performing. A low accuracy on the training and validation\n",
    "sets imply underfitting. A high accuracy on the training set but low accuracy on the validation set implies overfitting."
   ]
  },
  {
   "cell_type": "code",
   "execution_count": null,
   "metadata": {
    "collapsed": false,
    "deletable": true,
    "editable": true
   },
   "outputs": [],
   "source": [
    "### Train your model here.\n",
    "### Calculate and report the accuracy on the training and validation set.\n",
    "### Once a final model architecture is selected, \n",
    "### the accuracy on the test set should be calculated and reported as well.\n",
    "### Feel free to use as many code cells as needed.\n",
    "\n",
    "EPOCHS = 150\n",
    "BATCH_SIZE = 128\n",
    "RATE = 0.001\n",
    "training_loss = np.zeros(EPOCHS)\n",
    "validation_loss = np.zeros(EPOCHS)\n",
    "training_accuracy = np.zeros(EPOCHS)\n",
    "validation_accuracy = np.zeros(EPOCHS)\n",
    "\n",
    "with tf.Session() as sess:\n",
    "    sess.run(tf.global_variables_initializer())\n",
    "    num_examples = len(X_train)\n",
    "    \n",
    "    print(\"Training...\")\n",
    "    print()\n",
    "    early_stop = 0\n",
    "    for i in range(EPOCHS):\n",
    "        \n",
    "        X_train, y_train = shuffle(X_train, y_train)\n",
    "        for offset in range(0, num_examples, BATCH_SIZE):\n",
    "            end = offset + BATCH_SIZE\n",
    "            batch_x, batch_y = X_train[offset:end], y_train[offset:end]\n",
    "            _,loss = sess.run([training_operation, loss_operation], feed_dict={x: batch_x, y: batch_y, rate: RATE, keep_prob_c: 0.9, keep_prob_f: 0.5, gamma: 0.001})\n",
    "            training_loss[i] += (loss*len(batch_x))\n",
    "        \n",
    "        training_loss[i] = (training_loss[i]/num_examples)\n",
    "        \n",
    "        training_accuracy[i] = training_set_evaluate(X_train, y_train, BATCH_SIZE)\n",
    "        validation_accuracy[i], validation_loss[i] = set_evaluate(X_validation, y_validation, BATCH_SIZE)\n",
    "        print(\"EPOCH {} ...\".format(i+1))\n",
    "        print(\"Training Accuracy = {:.3f}\".format(training_accuracy[i]))\n",
    "        print(\"Validation Accuracy = {:.3f}\".format(validation_accuracy[i]))\n",
    "        print(\"Training loss = {:.3f}\".format(training_loss[i]))\n",
    "        print(\"Validation loss = {:.3f}\".format(validation_loss[i]))\n",
    "        print()\n",
    "        if (i == 0):\n",
    "            winner = validation_accuracy[i]\n",
    "            winner_index = i\n",
    "            saver.save(sess, './lenet')\n",
    "            accept = 0\n",
    "        else:\n",
    "            if validation_accuracy[i] > winner:\n",
    "                winner = validation_accuracy[i]\n",
    "                winner_index = i\n",
    "                saver.save(sess, './new')\n",
    "                accept = 0\n",
    "                print(\"Saving temp winner\")\n",
    "            else:\n",
    "                if (accept < 15):\n",
    "                    accept += 1\n",
    "                else:\n",
    "                    early_stop = 1\n",
    "        \n",
    "        if early_stop == 1:\n",
    "            print(\"Stopping early\")\n",
    "            print(winner)\n",
    "            training_loss = training_loss[:(winner_index+1)]\n",
    "            training_accuracy = training_accuracy[:(winner_index+1)]\n",
    "            validation_loss = validation_loss[:(winner_index+1)]\n",
    "            validation_accuracy = validation_accuracy[:(winner_index+1)]\n",
    "            break\n",
    "    \n",
    "    epochs = range(0,(winner_index+1))\n",
    "    f = plt.figure()\n",
    "    loss_plot = f.add_subplot(111)\n",
    "    loss_plot.set_title('Loss')\n",
    "    loss_plot.plot(epochs, training_loss, 'b', label=\"training loss\")\n",
    "    loss_plot.plot(epochs, validation_loss, 'g', label=\"validation loss\")\n",
    "    loss_plot.legend()\n",
    "    \n",
    "    e = plt.figure()\n",
    "    acc = e.add_subplot(111)\n",
    "    acc.set_title('Accuracy')\n",
    "    acc.plot(epochs, training_accuracy, 'b', label=\"training accuracy\")\n",
    "    acc.plot(epochs, validation_accuracy, 'g', label=\"validation accuracy\")\n",
    "    acc.legend()\n",
    "    plt.tight_layout()\n",
    "    sess.close()\n"
   ]
  },
  {
   "cell_type": "code",
   "execution_count": 16,
   "metadata": {
    "collapsed": false,
    "deletable": true,
    "editable": true
   },
   "outputs": [
    {
     "name": "stdout",
     "output_type": "stream",
     "text": [
      "29 3367\n"
     ]
    },
    {
     "data": {
      "image/png": "[encoded data removed]",
      "text/plain": [
       "<matplotlib.figure.Figure at 0x7fc399c54668>"
      ]
     },
     "metadata": {},
     "output_type": "display_data"
    }
   ],
   "source": [
    "### Load the test images and plot them here.\n",
    "### Feel free to use as many code cells as needed.\n",
    "\n",
    "import random\n",
    "import matplotlib.pyplot as plt\n",
    "import numpy as np\n",
    "\n",
    "index = random.randint(0, len(X_test))\n",
    "image = X_test[index].squeeze()\n",
    "\n",
    "plt.figure(figsize=(1,1))\n",
    "plt.imshow(image)\n",
    "print(y_test[index], index)"
   ]
  },
  {
   "cell_type": "code",
   "execution_count": 17,
   "metadata": {
    "collapsed": false,
    "deletable": true,
    "editable": true
   },
   "outputs": [
    {
     "name": "stdout",
     "output_type": "stream",
     "text": [
      "(12630, 32, 32)\n",
      "(12630, 32, 32)\n",
      "(12630, 32, 32, 1)\n"
     ]
    }
   ],
   "source": [
    "#Preprocess the test images\n",
    "X_test_orig = np.copy(X_test)\n",
    "y_test_orig = np.copy(y_test)\n",
    "\n",
    "X_test = preprocess(X_test)"
   ]
  },
  {
   "cell_type": "code",
   "execution_count": 18,
   "metadata": {
    "collapsed": false,
    "deletable": true,
    "editable": true
   },
   "outputs": [
    {
     "name": "stdout",
     "output_type": "stream",
     "text": [
      "25 6031\n"
     ]
    },
    {
     "data": {
      "image/png": "[encoded data removed]",
      "text/plain": [
       "<matplotlib.figure.Figure at 0x7fc399c542b0>"
      ]
     },
     "metadata": {},
     "output_type": "display_data"
    }
   ],
   "source": [
    "#Verify\n",
    "index = random.randint(0, len(X_test))\n",
    "image = X_test[index].squeeze()\n",
    "\n",
    "plt.figure(figsize=(1,1))\n",
    "plt.imshow(image, 'gray')\n",
    "print(y_test[index], index)"
   ]
  },
  {
   "cell_type": "code",
   "execution_count": 19,
   "metadata": {
    "collapsed": false,
    "deletable": true,
    "editable": true
   },
   "outputs": [
    {
     "name": "stdout",
     "output_type": "stream",
     "text": [
      "Test Accuracy = 0.943\n"
     ]
    }
   ],
   "source": [
    "#Evaluate the model on test data\n",
    "BATCH_SIZE = 128\n",
    "RATE = 0.001\n",
    "\n",
    "with tf.Session() as sess:\n",
    "    #saver.restore(sess, tf.train.latest_checkpoint('.'))\n",
    "    saver.restore(sess, './lenet')\n",
    "\n",
    "    test_accuracy, testing_loss = set_evaluate(X_test, y_test, BATCH_SIZE)\n",
    "    print(\"Test Accuracy = {:.3f}\".format(test_accuracy))"
   ]
  },
  {
   "cell_type": "markdown",
   "metadata": {
    "deletable": true,
    "editable": true
   },
   "source": [
    "---\n",
    "\n",
    "## Step 3: Test a Model on New Images\n",
    "\n",
    "To give yourself more insight into how your model is working, download at least five pictures of German traffic signs from the web and use your model to predict the traffic sign type.\n",
    "\n",
    "You may find `signnames.csv` useful as it contains mappings from the class id (integer) to the actual sign name."
   ]
  },
  {
   "cell_type": "markdown",
   "metadata": {
    "deletable": true,
    "editable": true
   },
   "source": [
    "### Load and Output the Images"
   ]
  },
  {
   "cell_type": "code",
   "execution_count": 20,
   "metadata": {
    "collapsed": false,
    "deletable": true,
    "editable": true
   },
   "outputs": [
    {
     "name": "stdout",
     "output_type": "stream",
     "text": [
      "['image1.png', '28']\n",
      "['image2.jpg', '14']\n",
      "['image3.jpg', '27']\n",
      "['image4.jpg', '22']\n",
      "['image5.png', '31']\n",
      "['image6.jpg', '18']\n",
      "['image7.png', '29']\n",
      "['image8.png', '39 ']\n",
      "['image9.png', '26']\n"
     ]
    }
   ],
   "source": [
    "#Load labels\n",
    "import csv\n",
    "\n",
    "web_labels = []\n",
    "with open('web_labels.csv', 'rt') as csvfile:\n",
    "    reader = csv.reader(csvfile)\n",
    "    for i,row in enumerate(reader):\n",
    "        print(row)\n",
    "        web_labels.append(row)"
   ]
  },
  {
   "cell_type": "code",
   "execution_count": 21,
   "metadata": {
    "collapsed": false,
    "deletable": true,
    "editable": true
   },
   "outputs": [
    {
     "name": "stdout",
     "output_type": "stream",
     "text": [
      "(9, 32, 32, 3)\n",
      "Loaded images\n",
      "[29 22 14 39 18 26 27 28 31]\n"
     ]
    },
    {
     "data": {
      "image/png": "[encoded data removed]",
      "text/plain": [
       "<matplotlib.figure.Figure at 0x7fc3a5d424e0>"
      ]
     },
     "metadata": {},
     "output_type": "display_data"
    },
    {
     "data": {
      "image/png": "[encoded data removed]",
      "text/plain": [
       "<matplotlib.figure.Figure at 0x7fc2e409ab38>"
      ]
     },
     "metadata": {},
     "output_type": "display_data"
    },
    {
     "data": {
      "image/png": "[encoded data removed]",
      "text/plain": [
       "<matplotlib.figure.Figure at 0x7fc2e90ee358>"
      ]
     },
     "metadata": {},
     "output_type": "display_data"
    },
    {
     "data": {
      "image/png": "[encoded data removed]",
      "text/plain": [
       "<matplotlib.figure.Figure at 0x7fc2e4037550>"
      ]
     },
     "metadata": {},
     "output_type": "display_data"
    },
    {
     "data": {
      "image/png": "[encoded data removed]",
      "text/plain": [
       "<matplotlib.figure.Figure at 0x7fc2c07c8320>"
      ]
     },
     "metadata": {},
     "output_type": "display_data"
    },
    {
     "data": {
      "image/png": "[encoded data removed]",
      "text/plain": [
       "<matplotlib.figure.Figure at 0x7fc2c0750d68>"
      ]
     },
     "metadata": {},
     "output_type": "display_data"
    },
    {
     "data": {
      "image/png": "[encoded data removed]",
      "text/plain": [
       "<matplotlib.figure.Figure at 0x7fc2c0765b38>"
      ]
     },
     "metadata": {},
     "output_type": "display_data"
    },
    {
     "data": {
      "image/png": "[encoded data removed]",
      "text/plain": [
       "<matplotlib.figure.Figure at 0x7fc2c06ecc50>"
      ]
     },
     "metadata": {},
     "output_type": "display_data"
    },
    {
     "data": {
      "image/png": "[encoded data removed]",
      "text/plain": [
       "<matplotlib.figure.Figure at 0x7fc2c06812b0>"
      ]
     },
     "metadata": {},
     "output_type": "display_data"
    }
   ],
   "source": [
    "### Load the web based images and plot them here.\n",
    "### Feel free to use as many code cells as needed.\n",
    "import glob\n",
    "import ntpath\n",
    "\n",
    "filelist = glob.glob('web_images_final/*')\n",
    "X_web=np.zeros([len(filelist), image_shape[0],image_shape[1],3], dtype=np.uint8)\n",
    "label_data = np.zeros([len(filelist)], dtype=np.uint32)\n",
    "print(X_web.shape)\n",
    "for i, path in enumerate(filelist):\n",
    "    filename = ntpath.basename(path)\n",
    "    for item in web_labels:\n",
    "        if(filename == item[0]):\n",
    "            label_data[i] = item[1]\n",
    "    image = cv2.imread(path)\n",
    "    image = cv2.cvtColor(image,cv2.COLOR_BGR2RGB)\n",
    "    image = cv2.resize(image,(image_shape[0], image_shape[1]), interpolation = cv2.INTER_CUBIC)\n",
    "    X_web[i][:][:][:]= image\n",
    "print(\"Loaded images\")\n",
    "\n",
    "print(label_data)\n",
    "\n",
    "for i,x_image in enumerate(X_web):\n",
    "    plt.figure(i,figsize=(1,1))\n",
    "    plt.imshow(x_image)"
   ]
  },
  {
   "cell_type": "code",
   "execution_count": 22,
   "metadata": {
    "collapsed": false,
    "deletable": true,
    "editable": true
   },
   "outputs": [
    {
     "name": "stdout",
     "output_type": "stream",
     "text": [
      "(9, 32, 32)\n",
      "(9, 32, 32)\n",
      "(9, 32, 32, 1)\n"
     ]
    }
   ],
   "source": [
    "#Preprocess\n",
    "X_web_orig = np.copy(X_web)\n",
    "X_web = preprocess(X_web)"
   ]
  },
  {
   "cell_type": "code",
   "execution_count": 23,
   "metadata": {
    "collapsed": false,
    "deletable": true,
    "editable": true
   },
   "outputs": [
    {
     "name": "stdout",
     "output_type": "stream",
     "text": [
      "(9, 32, 32, 1)\n"
     ]
    },
    {
     "data": {
      "image/png": "[encoded data removed]",
      "text/plain": [
       "<matplotlib.figure.Figure at 0x7fc3bc883438>"
      ]
     },
     "metadata": {},
     "output_type": "display_data"
    },
    {
     "data": {
      "image/png": "[encoded data removed]",
      "text/plain": [
       "<matplotlib.figure.Figure at 0x7fc2c0594e10>"
      ]
     },
     "metadata": {},
     "output_type": "display_data"
    },
    {
     "data": {
      "image/png": "[encoded data removed]",
      "text/plain": [
       "<matplotlib.figure.Figure at 0x7fc2c056d320>"
      ]
     },
     "metadata": {},
     "output_type": "display_data"
    },
    {
     "data": {
      "image/png": "[encoded data removed]",
      "text/plain": [
       "<matplotlib.figure.Figure at 0x7fc2c06a56d8>"
      ]
     },
     "metadata": {},
     "output_type": "display_data"
    },
    {
     "data": {
      "image/png": "[encoded data removed]",
      "text/plain": [
       "<matplotlib.figure.Figure at 0x7fc2c07ab5f8>"
      ]
     },
     "metadata": {},
     "output_type": "display_data"
    },
    {
     "data": {
      "image/png": "[encoded data removed]",
      "text/plain": [
       "<matplotlib.figure.Figure at 0x7fc2e4017e10>"
      ]
     },
     "metadata": {},
     "output_type": "display_data"
    },
    {
     "data": {
      "image/png": "[encoded data removed]",
      "text/plain": [
       "<matplotlib.figure.Figure at 0x7fc2c062fe10>"
      ]
     },
     "metadata": {},
     "output_type": "display_data"
    },
    {
     "data": {
      "image/png": "[encoded data removed]",
      "text/plain": [
       "<matplotlib.figure.Figure at 0x7fc2e910a470>"
      ]
     },
     "metadata": {},
     "output_type": "display_data"
    },
    {
     "data": {
      "image/png": "[encoded data removed]",
      "text/plain": [
       "<matplotlib.figure.Figure at 0x7fc2f194ad68>"
      ]
     },
     "metadata": {},
     "output_type": "display_data"
    }
   ],
   "source": [
    "#Display processed images\n",
    "print(X_web.shape)\n",
    "for i,x_image in enumerate(X_web):\n",
    "    show_image = x_image.squeeze()\n",
    "    plt.figure(i, figsize=(1,1))\n",
    "    plt.imshow(show_image,'gray')"
   ]
  },
  {
   "cell_type": "code",
   "execution_count": 24,
   "metadata": {
    "collapsed": false,
    "deletable": true,
    "editable": true
   },
   "outputs": [
    {
     "data": {
      "image/png": "[encoded data removed]",
      "text/plain": [
       "<matplotlib.figure.Figure at 0x7fc2e911cac8>"
      ]
     },
     "metadata": {},
     "output_type": "display_data"
    }
   ],
   "source": [
    "tr_class = 31\n",
    "k=0\n",
    "for i,image in enumerate(X_train_orig):\n",
    "    if (tr_class == y_train_orig[i]):\n",
    "        show_image = image.squeeze()\n",
    "        plt.figure()\n",
    "        plt.imshow(show_image)\n",
    "        break"
   ]
  },
  {
   "cell_type": "code",
   "execution_count": 25,
   "metadata": {
    "collapsed": false,
    "deletable": true,
    "editable": true
   },
   "outputs": [],
   "source": [
    "import csv\n",
    "\n",
    "traffic_classes = []\n",
    "with open('signnames.csv', 'rt') as csvfile:\n",
    "    reader = csv.reader(csvfile)\n",
    "    for i,row in enumerate(reader):\n",
    "        traffic_classes.append(row)"
   ]
  },
  {
   "cell_type": "markdown",
   "metadata": {
    "deletable": true,
    "editable": true
   },
   "source": [
    "### Predict the Sign Type for Each Image"
   ]
  },
  {
   "cell_type": "code",
   "execution_count": 26,
   "metadata": {
    "collapsed": false,
    "deletable": true,
    "editable": true
   },
   "outputs": [
    {
     "name": "stdout",
     "output_type": "stream",
     "text": [
      "Image 1: Bicycles crossing\n",
      "Image 2: Bumpy road\n",
      "Image 3: Stop\n",
      "Image 4: Keep left\n",
      "Image 5: General caution\n",
      "Image 6: Traffic signals\n",
      "Image 7: Pedestrians\n",
      "Image 8: Children crossing\n",
      "Image 9: Dangerous curve to the left\n"
     ]
    }
   ],
   "source": [
    "### Run the predictions here and use the model to output the prediction for each image.\n",
    "### Make sure to pre-process the images with the same pre-processing pipeline used earlier.\n",
    "### Feel free to use as many code cells as needed.\n",
    "\n",
    "\n",
    "with tf.Session() as sess:\n",
    "    #saver.restore(sess, tf.train.latest_checkpoint('.'))\n",
    "    saver.restore(sess, './lenet')\n",
    "    for i,image in enumerate(X_web):\n",
    "        batch_x = X_web[i:(i+1)]\n",
    "        prediction = sess.run(tf.argmax(logits,1), feed_dict={x: batch_x, keep_prob_c: 1.0, keep_prob_f: 1.0, gamma: 0.0})\n",
    "        print(\"Image \"+str(i+1)+\": \"+traffic_classes[(int(prediction)+1)][1])                            "
   ]
  },
  {
   "cell_type": "markdown",
   "metadata": {
    "deletable": true,
    "editable": true
   },
   "source": [
    "### Analyze Performance"
   ]
  },
  {
   "cell_type": "code",
   "execution_count": 27,
   "metadata": {
    "collapsed": false,
    "deletable": true,
    "editable": true
   },
   "outputs": [
    {
     "name": "stdout",
     "output_type": "stream",
     "text": [
      "accuracy 0.888889\n"
     ]
    }
   ],
   "source": [
    "### Calculate the accuracy for these 5 new images. \n",
    "### For example, if the model predicted 1 out of 5 signs correctly, it's 20% accurate on these new images.\n",
    "with tf.Session() as sess:\n",
    "    #saver.restore(sess, tf.train.latest_checkpoint('.'))\n",
    "    saver.restore(sess, './lenet')\n",
    "\n",
    "    batch_x = X_web[0:len(X_web)]\n",
    "    batch_y = label_data[0:len(label_data)]\n",
    "    accuracy = sess.run(accuracy_operation, feed_dict={x: batch_x, y: batch_y, keep_prob_c: 1.0, keep_prob_f: 1.0, gamma: 0.0})\n",
    "    correct = sess.run(correct_prediction, feed_dict={x: batch_x, y: batch_y, keep_prob_c: 1.0, keep_prob_f: 1.0, gamma: 0.0})\n",
    "    print(\"accuracy\", accuracy)\n",
    "                       "
   ]
  },
  {
   "cell_type": "markdown",
   "metadata": {
    "deletable": true,
    "editable": true
   },
   "source": [
    "### Output Top 5 Softmax Probabilities For Each Image Found on the Web"
   ]
  },
  {
   "cell_type": "markdown",
   "metadata": {
    "deletable": true,
    "editable": true
   },
   "source": [
    "For each of the new images, print out the model's softmax probabilities to show the **certainty** of the model's predictions (limit the output to the top 5 probabilities for each image). [`tf.nn.top_k`](https://www.tensorflow.org/versions/r0.12/api_docs/python/nn.html#top_k) could prove helpful here. \n",
    "\n",
    "The example below demonstrates how tf.nn.top_k can be used to find the top k predictions for each image.\n",
    "\n",
    "`tf.nn.top_k` will return the values and indices (class ids) of the top k predictions. So if k=3, for each sign, it'll return the 3 largest probabilities (out of a possible 43) and the correspoding class ids.\n",
    "\n",
    "Take this numpy array as an example. The values in the array represent predictions. The array contains softmax probabilities for five candidate images with six possible classes. `tk.nn.top_k` is used to choose the three classes with the highest probability:\n",
    "\n",
    "```\n",
    "# (5, 6) array\n",
    "a = np.array([[ 0.24879643,  0.07032244,  0.12641572,  0.34763842,  0.07893497,\n",
    "         0.12789202],\n",
    "       [ 0.28086119,  0.27569815,  0.08594638,  0.0178669 ,  0.18063401,\n",
    "         0.15899337],\n",
    "       [ 0.26076848,  0.23664738,  0.08020603,  0.07001922,  0.1134371 ,\n",
    "         0.23892179],\n",
    "       [ 0.11943333,  0.29198961,  0.02605103,  0.26234032,  0.1351348 ,\n",
    "         0.16505091],\n",
    "       [ 0.09561176,  0.34396535,  0.0643941 ,  0.16240774,  0.24206137,\n",
    "         0.09155967]])\n",
    "```\n",
    "\n",
    "Running it through `sess.run(tf.nn.top_k(tf.constant(a), k=3))` produces:\n",
    "\n",
    "```\n",
    "TopKV2(values=array([[ 0.34763842,  0.24879643,  0.12789202],\n",
    "       [ 0.28086119,  0.27569815,  0.18063401],\n",
    "       [ 0.26076848,  0.23892179,  0.23664738],\n",
    "       [ 0.29198961,  0.26234032,  0.16505091],\n",
    "       [ 0.34396535,  0.24206137,  0.16240774]]), indices=array([[3, 0, 5],\n",
    "       [0, 1, 4],\n",
    "       [0, 5, 1],\n",
    "       [1, 3, 5],\n",
    "       [1, 4, 3]], dtype=int32))\n",
    "```\n",
    "\n",
    "Looking just at the first row we get `[ 0.34763842,  0.24879643,  0.12789202]`, you can confirm these are the 3 largest probabilities in `a`. You'll also notice `[3, 0, 5]` are the corresponding indices."
   ]
  },
  {
   "cell_type": "code",
   "execution_count": 28,
   "metadata": {
    "collapsed": false,
    "deletable": true,
    "editable": true
   },
   "outputs": [
    {
     "name": "stdout",
     "output_type": "stream",
     "text": [
      "Image  1\n",
      "Prob: 0.979586 Prediction: Bicycles crossing\n",
      "Prob: 0.0196223 Prediction: Bumpy road\n",
      "Prob: 0.000722326 Prediction: Children crossing\n",
      "Prob: 4.91705e-05 Prediction: Slippery road\n",
      "Prob: 1.46039e-05 Prediction: Beware of ice/snow\n",
      "Image  2\n",
      "Prob: 0.999995 Prediction: Bumpy road\n",
      "Prob: 5.45566e-06 Prediction: Bicycles crossing\n",
      "Prob: 1.93473e-09 Prediction: Traffic signals\n",
      "Prob: 4.78361e-11 Prediction: Road work\n",
      "Prob: 2.07294e-11 Prediction: Beware of ice/snow\n",
      "Image  3\n",
      "Prob: 0.999866 Prediction: Stop\n",
      "Prob: 9.31516e-05 Prediction: Yield\n",
      "Prob: 3.94518e-05 Prediction: Keep right\n",
      "Prob: 1.59648e-06 Prediction: Speed limit (50km/h)\n",
      "Prob: 7.91644e-08 Prediction: Turn left ahead\n",
      "Image  4\n",
      "Prob: 1.0 Prediction: Keep left\n",
      "Prob: 2.45996e-19 Prediction: End of no passing\n",
      "Prob: 1.59154e-19 Prediction: Road work\n",
      "Prob: 3.30148e-20 Prediction: End of all speed and passing limits\n",
      "Prob: 1.44789e-20 Prediction: Turn right ahead\n",
      "Image  5\n",
      "Prob: 0.993743 Prediction: General caution\n",
      "Prob: 0.00609989 Prediction: Traffic signals\n",
      "Prob: 0.000155608 Prediction: Pedestrians\n",
      "Prob: 6.43928e-07 Prediction: Road work\n",
      "Prob: 4.06901e-07 Prediction: Bumpy road\n",
      "Image  6\n",
      "Prob: 0.987753 Prediction: Traffic signals\n",
      "Prob: 0.012234 Prediction: General caution\n",
      "Prob: 1.22218e-05 Prediction: Pedestrians\n",
      "Prob: 2.00876e-07 Prediction: Bumpy road\n",
      "Prob: 3.10773e-08 Prediction: Road work\n",
      "Image  7\n",
      "Prob: 0.688249 Prediction: Pedestrians\n",
      "Prob: 0.240953 Prediction: Children crossing\n",
      "Prob: 0.0628403 Prediction: Road narrows on the right\n",
      "Prob: 0.0031001 Prediction: Bicycles crossing\n",
      "Prob: 0.00255504 Prediction: Beware of ice/snow\n",
      "Image  8\n",
      "Prob: 0.999179 Prediction: Children crossing\n",
      "Prob: 0.000476159 Prediction: Bicycles crossing\n",
      "Prob: 0.000311066 Prediction: Beware of ice/snow\n",
      "Prob: 1.74707e-05 Prediction: Dangerous curve to the right\n",
      "Prob: 6.38499e-06 Prediction: Right-of-way at the next intersection\n",
      "Image  9\n",
      "Prob: 0.99846 Prediction: Dangerous curve to the left\n",
      "Prob: 0.00074877 Prediction: Go straight or left\n",
      "Prob: 0.00029424 Prediction: Wild animals crossing\n",
      "Prob: 0.000198753 Prediction: Slippery road\n",
      "Prob: 0.000198099 Prediction: Speed limit (70km/h)\n"
     ]
    }
   ],
   "source": [
    "### Print out the top five softmax probabilities for the predictions on the German traffic sign images found on the web. \n",
    "### Feel free to use as many code cells as needed.\n",
    "with tf.Session() as sess:\n",
    "    #saver.restore(sess, tf.train.latest_checkpoint('.'))\n",
    "    saver.restore(sess, './lenet')\n",
    "    xaxis = range(5)\n",
    "    \n",
    "    for i,image in enumerate(X_web):\n",
    "        batch_x = X_web[i:(i+1)]\n",
    "        top_five_prob, top_five_indices= sess.run(tf.nn.top_k(tf.nn.softmax(logits),5), feed_dict={x: batch_x, keep_prob_c: 1.0, keep_prob_f: 1.0, gamma: 0.0})\n",
    "        prob = np.reshape(top_five_prob, 5)\n",
    "        indices = np.reshape(top_five_indices, 5)\n",
    "        print(\"Image \",(i+1))\n",
    "        for j,top in enumerate(indices):\n",
    "            print(\"Prob: \"+str(prob[j])+\" Prediction: \"+str(traffic_classes[(int(indices[j])+1)][1]))\n",
    "\n",
    "        "
   ]
  },
  {
   "cell_type": "markdown",
   "metadata": {
    "deletable": true,
    "editable": true
   },
   "source": [
    "---\n",
    "\n",
    "## Step 4: Visualize the Neural Network's State with Test Images\n",
    "\n",
    " This Section is not required to complete but acts as an additional excersise for understaning the output of a neural network's weights. While neural networks can be a great learning device they are often referred to as a black box. We can understand what the weights of a neural network look like better by plotting their feature maps. After successfully training your neural network you can see what it's feature maps look like by plotting the output of the network's weight layers in response to a test stimuli image. From these plotted feature maps, it's possible to see what characteristics of an image the network finds interesting. For a sign, maybe the inner network feature maps react with high activation to the sign's boundary outline or to the contrast in the sign's painted symbol.\n",
    "\n",
    " Provided for you below is the function code that allows you to get the visualization output of any tensorflow weight layer you want. The inputs to the function should be a stimuli image, one used during training or a new one you provided, and then the tensorflow variable name that represents the layer's state during the training process, for instance if you wanted to see what the [LeNet lab's](https://classroom.udacity.com/nanodegrees/nd013/parts/fbf77062-5703-404e-b60c-95b78b2f3f9e/modules/6df7ae49-c61c-4bb2-a23e-6527e69209ec/lessons/601ae704-1035-4287-8b11-e2c2716217ad/concepts/d4aca031-508f-4e0b-b493-e7b706120f81) feature maps looked like for it's second convolutional layer you could enter conv2 as the tf_activation variable.\n",
    "\n",
    "For an example of what feature map outputs look like, check out NVIDIA's results in their paper [End-to-End Deep Learning for Self-Driving Cars](https://devblogs.nvidia.com/parallelforall/deep-learning-self-driving-cars/) in the section Visualization of internal CNN State. NVIDIA was able to show that their network's inner weights had high activations to road boundary lines by comparing feature maps from an image with a clear path to one without. Try experimenting with a similar test to show that your trained network's weights are looking for interesting features, whether it's looking at differences in feature maps from images with or without a sign, or even what feature maps look like in a trained network vs a completely untrained one on the same sign image.\n",
    "\n",
    "<figure>\n",
    " <img src=\"visualize_cnn.png\" width=\"380\" alt=\"Combined Image\" />\n",
    " <figcaption>\n",
    " <p></p> \n",
    " <p style=\"text-align: center;\"> Your output should look something like this (above)</p> \n",
    " </figcaption>\n",
    "</figure>\n",
    " <p></p> \n"
   ]
  },
  {
   "cell_type": "code",
   "execution_count": null,
   "metadata": {
    "collapsed": true,
    "deletable": true,
    "editable": true
   },
   "outputs": [],
   "source": [
    "### Visualize your network's feature maps here.\n",
    "### Feel free to use as many code cells as needed.\n",
    "\n",
    "# image_input: the test image being fed into the network to produce the feature maps\n",
    "# tf_activation: should be a tf variable name used during your training procedure that represents the calculated state of a specific weight layer\n",
    "# activation_min/max: can be used to view the activation contrast in more detail, by default matplot sets min and max to the actual min and max values of the output\n",
    "# plt_num: used to plot out multiple different weight feature map sets on the same block, just extend the plt number for each new feature map entry\n",
    "\n",
    "def outputFeatureMap(image_input, tf_activation, activation_min=-1, activation_max=-1 ,plt_num=1):\n",
    "    # Here make sure to preprocess your image_input in a way your network expects\n",
    "    # with size, normalization, ect if needed\n",
    "    # image_input =\n",
    "    # Note: x should be the same name as your network's tensorflow data placeholder variable\n",
    "    # If you get an error tf_activation is not defined it maybe having trouble accessing the variable from inside a function\n",
    "    activation = tf_activation.eval(session=sess,feed_dict={x : image_input})\n",
    "    featuremaps = activation.shape[3]\n",
    "    plt.figure(plt_num, figsize=(15,15))\n",
    "    for featuremap in range(featuremaps):\n",
    "        plt.subplot(6,8, featuremap+1) # sets the number of feature maps to show on each row and column\n",
    "        plt.title('FeatureMap ' + str(featuremap)) # displays the feature map number\n",
    "        if activation_min != -1 & activation_max != -1:\n",
    "            plt.imshow(activation[0,:,:, featuremap], interpolation=\"nearest\", vmin =activation_min, vmax=activation_max, cmap=\"gray\")\n",
    "        elif activation_max != -1:\n",
    "            plt.imshow(activation[0,:,:, featuremap], interpolation=\"nearest\", vmax=activation_max, cmap=\"gray\")\n",
    "        elif activation_min !=-1:\n",
    "            plt.imshow(activation[0,:,:, featuremap], interpolation=\"nearest\", vmin=activation_min, cmap=\"gray\")\n",
    "        else:\n",
    "            plt.imshow(activation[0,:,:, featuremap], interpolation=\"nearest\", cmap=\"gray\")\n",
    "            \n"
   ]
  },
  {
   "cell_type": "code",
   "execution_count": null,
   "metadata": {
    "collapsed": false,
    "deletable": true,
    "editable": true
   },
   "outputs": [],
   "source": [
    "### Run the predictions here and use the model to output the prediction for each image.\n",
    "### Make sure to pre-process the images with the same pre-processing pipeline used earlier.\n",
    "### Feel free to use as many code cells as needed.\n",
    "\n",
    "\n",
    "with tf.Session() as sess:\n",
    "    #saver.restore(sess, tf.train.latest_checkpoint('.'))\n",
    "    saver.restore(sess, './lenet')\n",
    "    for i,image in enumerate(X_web):\n",
    "        batch_x = X_web[i:(i+1)]\n",
    "        layer = sess.graph.get_tensor_by_name(\"conv1\")\n",
    "        #prediction = sess.run(tf.argmax(logits,1), feed_dict={x: batch_x, keep_prob_c: 1.0, keep_prob_f: 1.0, gamma: 0.0})\n",
    "        #conv1_feature_map = sess.run(c1, feed_dict={x: batch_x, keep_prob_c: 1.0, keep_prob_f: 1.0, gamma: 0.0})\n",
    "        outputFeatureMap(batch_x,tf_activation=layer)\n",
    "        if i == 1:\n",
    "            break\n"
   ]
  },
  {
   "cell_type": "markdown",
   "metadata": {
    "deletable": true,
    "editable": true
   },
   "source": [
    "### Question 9\n",
    "\n",
    "Discuss how you used the visual output of your trained network's feature maps to show that it had learned to look for interesting characteristics in traffic sign images\n"
   ]
  },
  {
   "cell_type": "markdown",
   "metadata": {
    "deletable": true,
    "editable": true
   },
   "source": [
    "**Answer:**"
   ]
  },
  {
   "cell_type": "markdown",
   "metadata": {
    "deletable": true,
    "editable": true
   },
   "source": [
    "> **Note**: Once you have completed all of the code implementations and successfully answered each question above, you may finalize your work by exporting the iPython Notebook as an HTML document. You can do this by using the menu above and navigating to  \\n\",\n",
    "    \"**File -> Download as -> HTML (.html)**. Include the finished document along with this notebook as your submission."
   ]
  },
  {
   "cell_type": "markdown",
   "metadata": {
    "deletable": true,
    "editable": true
   },
   "source": [
    "### Project Writeup\n",
    "\n",
    "Once you have completed the code implementation, document your results in a project writeup using this [template](https://github.com/udacity/CarND-Traffic-Sign-Classifier-Project/blob/master/writeup_template.md) as a guide. The writeup can be in a markdown or pdf file. "
   ]
  }
 ],
 "metadata": {
  "anaconda-cloud": {},
  "kernelspec": {
   "display_name": "Python 3",
   "language": "python",
   "name": "python3"
  },
  "language_info": {
   "codemirror_mode": {
    "name": "ipython",
    "version": 3
   },
   "file_extension": ".py",
   "mimetype": "text/x-python",
   "name": "python",
   "nbconvert_exporter": "python",
   "pygments_lexer": "ipython3",
   "version": "3.5.2"
  }
 },
 "nbformat": 4,
 "nbformat_minor": 1
}
